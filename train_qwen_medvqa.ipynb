{
 "cells": [
  {
   "cell_type": "markdown",
   "id": "c2acc7f1",
   "metadata": {},
   "source": [
    "This notebook finetunes the Qwen-2B-VL model for medical visual question answering on the MedVQA dataset"
   ]
  },
  {
   "cell_type": "code",
   "execution_count": 1,
   "id": "afdc221f",
   "metadata": {},
   "outputs": [
    {
     "name": "stderr",
     "output_type": "stream",
     "text": [
      "/home/triho/Data/miniconda3/envs/nlpmedvqa/lib/python3.10/site-packages/tqdm/auto.py:21: TqdmWarning: IProgress not found. Please update jupyter and ipywidgets. See https://ipywidgets.readthedocs.io/en/stable/user_install.html\n",
      "  from .autonotebook import tqdm as notebook_tqdm\n"
     ]
    }
   ],
   "source": [
    "from datasets import load_dataset\n",
    "from IPython.display import display\n",
    "from tqdm import tqdm\n",
    "import nltk\n",
    "import evaluate\n",
    "\n",
    "import torch\n",
    "from transformers import Qwen2VLForConditionalGeneration, Qwen2VLProcessor\n",
    "from qwen_vl_utils import process_vision_info"
   ]
  },
  {
   "cell_type": "code",
   "execution_count": 2,
   "id": "5a9842da",
   "metadata": {},
   "outputs": [],
   "source": [
    "# !pip install -U -q git+https://github.com/huggingface/trl.git bitsandbytes peft qwen-vl-utils trackio"
   ]
  },
  {
   "cell_type": "code",
   "execution_count": 3,
   "id": "37a428a4",
   "metadata": {},
   "outputs": [],
   "source": [
    "# pip install evaluate nltk rouge_score bert_score"
   ]
  },
  {
   "cell_type": "markdown",
   "id": "e3c140ef",
   "metadata": {},
   "source": [
    "## 1. Load and process dataset"
   ]
  },
  {
   "cell_type": "code",
   "execution_count": 2,
   "id": "042df5f3",
   "metadata": {},
   "outputs": [
    {
     "name": "stdout",
     "output_type": "stream",
     "text": [
      "Dataset({\n",
      "    features: ['id', 'image', 'question', 'answers'],\n",
      "    num_rows: 12792\n",
      "})\n",
      "Dataset({\n",
      "    features: ['id', 'image', 'question', 'answers'],\n",
      "    num_rows: 2000\n",
      "})\n",
      "Dataset({\n",
      "    features: ['id', 'image', 'question', 'answers'],\n",
      "    num_rows: 500\n",
      "})\n"
     ]
    }
   ],
   "source": [
    "# datasets = load_dataset(\"SonicNLP/medvqa_dataset\")\n",
    "# train_dataset, eval_dataset, test_dataset = load_dataset(\"SonicNLP/medvqa_dataset\", split=['train[:10%]', 'validation[:10%]', 'test[:10%]'])\n",
    "train_dataset, eval_dataset, test_dataset = load_dataset(\"SonicNLP/medvqa_dataset\", split=['train', 'validation', 'test'])\n",
    "print(train_dataset)\n",
    "print(eval_dataset)\n",
    "print(test_dataset)\n",
    "# train_dataset = datasets['train']\n",
    "# val_dataset = datasets['validation']\n",
    "# test_dataset = datasets['test']"
   ]
  },
  {
   "cell_type": "code",
   "execution_count": 4,
   "id": "afabe034",
   "metadata": {},
   "outputs": [],
   "source": [
    "system_message = \"\"\"You are a Vision Language Model specialized in interpreting visual data from medical images.\n",
    "Your task is to analyze the provided medical image and respond to queries with concise answers, usually a single word, number, or short phrase.\n",
    "Focus on delivering accurate, succinct answers based on the visual information. Avoid additional explanation unless absolutely necessary.\"\"\"\n",
    "\n",
    "def format_data(sample):\n",
    "    return {\n",
    "      \"images\": [sample[\"image\"].resize((256, 256))],\n",
    "      \"messages\": [\n",
    "          {\n",
    "              \"role\": \"system\",\n",
    "              \"content\": [\n",
    "                  {\n",
    "                      \"type\": \"text\",\n",
    "                      \"text\": system_message\n",
    "                  }\n",
    "              ],\n",
    "          },\n",
    "          {\n",
    "              \"role\": \"user\",\n",
    "              \"content\": [\n",
    "                  {\n",
    "                      \"type\": \"image\",\n",
    "                      \"image\": sample[\"image\"],\n",
    "                  },\n",
    "                  {\n",
    "                      \"type\": \"text\",\n",
    "                      \"text\": sample['question'],\n",
    "                  }\n",
    "              ],\n",
    "          },\n",
    "          {\n",
    "              \"role\": \"assistant\",\n",
    "              \"content\": [\n",
    "                  {\n",
    "                      \"type\": \"text\",\n",
    "                      \"text\": sample[\"answers\"][0]\n",
    "                  }\n",
    "              ],\n",
    "          },\n",
    "      ]\n",
    "      }"
   ]
  },
  {
   "cell_type": "code",
   "execution_count": 5,
   "id": "c327bae6",
   "metadata": {},
   "outputs": [
    {
     "name": "stderr",
     "output_type": "stream",
     "text": [
      "Processing train:   1%|▌                                                                  | 103/12792 [00:00<01:06, 191.18it/s]"
     ]
    },
    {
     "name": "stderr",
     "output_type": "stream",
     "text": [
      "Processing train: 100%|█████████████████████████████████████████████████████████████████| 12792/12792 [01:04<00:00, 197.96it/s]\n",
      "Processing eval: 100%|████████████████████████████████████████████████████████████████████| 2000/2000 [00:10<00:00, 189.48it/s]\n",
      "Processing test: 100%|██████████████████████████████████████████████████████████████████████| 500/500 [00:02<00:00, 193.31it/s]\n"
     ]
    }
   ],
   "source": [
    "train_dataset = [format_data(sample) for sample in tqdm(train_dataset, desc=\"Processing train\")]\n",
    "eval_dataset = [format_data(sample) for sample in tqdm(eval_dataset, desc=\"Processing eval\")]\n",
    "test_dataset = [format_data(sample) for sample in tqdm(test_dataset, desc=\"Processing test\")]"
   ]
  },
  {
   "cell_type": "code",
   "execution_count": 6,
   "id": "81707351",
   "metadata": {},
   "outputs": [
    {
     "name": "stdout",
     "output_type": "stream",
     "text": [
      "[{'role': 'system', 'content': [{'type': 'text', 'text': 'You are a Vision Language Model specialized in interpreting visual data from medical images.\\nYour task is to analyze the provided medical image and respond to queries with concise answers, usually a single word, number, or short phrase.\\nFocus on delivering accurate, succinct answers based on the visual information. Avoid additional explanation unless absolutely necessary.'}]}, {'role': 'user', 'content': [{'type': 'image', 'image': <PIL.JpegImagePlugin.JpegImageFile image mode=RGB size=1024x659 at 0x14F4A028C2B0>}, {'type': 'text', 'text': 'what kind of image is this?'}]}, {'role': 'assistant', 'content': [{'type': 'text', 'text': 'cta - ct angiography'}]}]\n"
     ]
    },
    {
     "data": {
      "image/jpeg": "[encoded data removed]",
      "image/png": "[encoded data removed]",
      "text/plain": [
       "<PIL.Image.Image image mode=RGB size=256x256>"
      ]
     },
     "metadata": {},
     "output_type": "display_data"
    },
    {
     "name": "stdout",
     "output_type": "stream",
     "text": [
      "(256, 256)\n"
     ]
    }
   ],
   "source": [
    "sample = train_dataset[0]\n",
    "print(sample['messages'])\n",
    "display(sample['images'][0])\n",
    "print(sample['images'][0].size)"
   ]
  },
  {
   "cell_type": "markdown",
   "id": "7a526d44",
   "metadata": {},
   "source": [
    "### 2. Load the model and inspect original performance"
   ]
  },
  {
   "cell_type": "code",
   "execution_count": null,
   "id": "d8ddc4fb",
   "metadata": {},
   "outputs": [
    {
     "name": "stderr",
     "output_type": "stream",
     "text": [
      "`torch_dtype` is deprecated! Use `dtype` instead!\n",
      "Loading checkpoint shards: 100%|█████████████████████████████████████████████████████████████████| 2/2 [00:00<00:00,  2.47it/s]\n",
      "The image processor of type `Qwen2VLImageProcessor` is now loaded as a fast processor by default, even if the model checkpoint was saved with a slow processor. This is a breaking change and may produce slightly different outputs. To continue using the slow processor, instantiate this class with `use_fast=False`. Note that this behavior will be extended to all models in a future release.\n"
     ]
    }
   ],
   "source": [
    "model_id = \"Qwen/Qwen2-VL-2B-Instruct\"\n",
    "model = Qwen2VLForConditionalGeneration.from_pretrained(\n",
    "    model_id,\n",
    "    device_map=\"auto\",\n",
    "    torch_dtype=torch.bfloat16,\n",
    ")\n",
    "\n",
    "processor = Qwen2VLProcessor.from_pretrained(model_id)"
   ]
  },
  {
   "cell_type": "code",
   "execution_count": 7,
   "id": "8479d7db",
   "metadata": {},
   "outputs": [],
   "source": [
    "def generate_text_from_sample(model, processor, sample, max_new_tokens=1024, device=\"cuda\"):\n",
    "    # Prepare the text input by applying the chat template\n",
    "    text_input = processor.apply_chat_template(\n",
    "        # sample['messages'][1:2],  # Use the sample without the system message\n",
    "        sample['messages'][:2],\n",
    "        tokenize=False,\n",
    "        add_generation_prompt=True\n",
    "    )\n",
    "\n",
    "    # Process the visual input from the sample\n",
    "    image_inputs, _ = process_vision_info(sample['messages'])\n",
    "\n",
    "    # Prepare the inputs for the model\n",
    "    model_inputs = processor(\n",
    "        text=[text_input],\n",
    "        images=image_inputs,\n",
    "        return_tensors=\"pt\",\n",
    "    ).to(device)  # Move inputs to the specified device\n",
    "\n",
    "    # Generate text with the model\n",
    "    generated_ids = model.generate(**model_inputs, max_new_tokens=max_new_tokens)\n",
    "\n",
    "    # Trim the generated ids to remove the input ids\n",
    "    trimmed_generated_ids = [\n",
    "        out_ids[len(in_ids):] for in_ids, out_ids in zip(model_inputs.input_ids, generated_ids)\n",
    "    ]\n",
    "\n",
    "    # Decode the output text\n",
    "    output_text = processor.batch_decode(\n",
    "        trimmed_generated_ids,\n",
    "        skip_special_tokens=True,\n",
    "        clean_up_tokenization_spaces=False\n",
    "    )\n",
    "\n",
    "    return output_text[0]  # Return the first decoded output text"
   ]
  },
  {
   "cell_type": "code",
   "execution_count": 31,
   "id": "af702aa3",
   "metadata": {},
   "outputs": [
    {
     "data": {
      "text/plain": [
       "'CT scan'"
      ]
     },
     "execution_count": 31,
     "metadata": {},
     "output_type": "execute_result"
    }
   ],
   "source": [
    "# Example of how to call the method with sample:\n",
    "output = generate_text_from_sample(model, processor, train_dataset[0])\n",
    "output"
   ]
  },
  {
   "cell_type": "markdown",
   "id": "1a526df2",
   "metadata": {},
   "source": [
    "### 3. Fine-tuning"
   ]
  },
  {
   "cell_type": "code",
   "execution_count": 44,
   "id": "2aabcf61",
   "metadata": {},
   "outputs": [
    {
     "name": "stdout",
     "output_type": "stream",
     "text": [
      "GPU allocated memory: 2.03 GB\n",
      "GPU reserved memory: 2.05 GB\n"
     ]
    }
   ],
   "source": [
    "import gc\n",
    "import time\n",
    "\n",
    "def clear_memory():\n",
    "    # Delete variables if they exist in the current global scope\n",
    "    if 'inputs' in globals(): del globals()['inputs']\n",
    "    if 'model' in globals(): del globals()['model']\n",
    "    if 'processor' in globals(): del globals()['processor']\n",
    "    if 'trainer' in globals(): del globals()['trainer']\n",
    "    if 'peft_model' in globals(): del globals()['peft_model']\n",
    "    if 'bnb_config' in globals(): del globals()['bnb_config']\n",
    "    time.sleep(2)\n",
    "\n",
    "    # Garbage collection and clearing CUDA memory\n",
    "    gc.collect()\n",
    "    time.sleep(2)\n",
    "    torch.cuda.empty_cache()\n",
    "    torch.cuda.synchronize()\n",
    "    time.sleep(2)\n",
    "    gc.collect()\n",
    "    time.sleep(2)\n",
    "\n",
    "    print(f\"GPU allocated memory: {torch.cuda.memory_allocated() / 1024**3:.2f} GB\")\n",
    "    print(f\"GPU reserved memory: {torch.cuda.memory_reserved() / 1024**3:.2f} GB\")\n",
    "\n",
    "clear_memory()"
   ]
  },
  {
   "cell_type": "markdown",
   "id": "f551861d",
   "metadata": {},
   "source": [
    "Training"
   ]
  },
  {
   "cell_type": "code",
   "execution_count": 8,
   "id": "d788272f",
   "metadata": {},
   "outputs": [
    {
     "name": "stderr",
     "output_type": "stream",
     "text": [
      "`torch_dtype` is deprecated! Use `dtype` instead!\n"
     ]
    },
    {
     "name": "stderr",
     "output_type": "stream",
     "text": [
      "Loading checkpoint shards: 100%|█████████████████████████████████████████████████████████████████| 2/2 [00:01<00:00,  1.43it/s]\n",
      "The image processor of type `Qwen2VLImageProcessor` is now loaded as a fast processor by default, even if the model checkpoint was saved with a slow processor. This is a breaking change and may produce slightly different outputs. To continue using the slow processor, instantiate this class with `use_fast=False`. Note that this behavior will be extended to all models in a future release.\n"
     ]
    }
   ],
   "source": [
    "from transformers import BitsAndBytesConfig\n",
    "import torch\n",
    "\n",
    "model_id = \"Qwen/Qwen2-VL-2B-Instruct\"\n",
    "\n",
    "# BitsAndBytesConfig int-4 config\n",
    "bnb_config = BitsAndBytesConfig(\n",
    "    load_in_4bit=True,\n",
    "    bnb_4bit_use_double_quant=True,\n",
    "    bnb_4bit_quant_type=\"nf4\",\n",
    "    bnb_4bit_compute_dtype=torch.bfloat16\n",
    ")\n",
    "\n",
    "# Load model and tokenizer\n",
    "model = Qwen2VLForConditionalGeneration.from_pretrained(\n",
    "    model_id,\n",
    "    device_map=\"auto\",\n",
    "    torch_dtype=torch.bfloat16,\n",
    "    quantization_config=bnb_config\n",
    ")\n",
    "processor = Qwen2VLProcessor.from_pretrained(model_id)"
   ]
  },
  {
   "cell_type": "code",
   "execution_count": null,
   "id": "f9440eae",
   "metadata": {},
   "outputs": [
    {
     "name": "stdout",
     "output_type": "stream",
     "text": [
      "trainable params: 1,089,536 || all params: 2,210,075,136 || trainable%: 0.0493\n"
     ]
    }
   ],
   "source": [
    "from peft import LoraConfig, get_peft_model\n",
    "\n",
    "# Configure LoRA\n",
    "peft_config = LoraConfig(\n",
    "    lora_alpha=16,\n",
    "    lora_dropout=0.05,\n",
    "    r=8,\n",
    "    bias=\"none\",\n",
    "    target_modules=[\"q_proj\", \"v_proj\"],\n",
    "    task_type=\"CAUSAL_LM\",\n",
    ")\n",
    "\n",
    "# Apply PEFT model adaptation\n",
    "peft_model = get_peft_model(model, peft_config)\n",
    "\n",
    "# Print trainable parameters\n",
    "peft_model.print_trainable_parameters()"
   ]
  },
  {
   "cell_type": "code",
   "execution_count": null,
   "id": "2a2e0afe",
   "metadata": {},
   "outputs": [],
   "source": [
    "from trl import SFTConfig\n",
    "\n",
    "# Configure training arguments\n",
    "training_args = SFTConfig(\n",
    "    output_dir=\"qwen2-2b-MedVQA-2\",  # Directory to save the model\n",
    "    num_train_epochs=10,  # Number of training epochs\n",
    "    per_device_train_batch_size=32,  # Batch size for training\n",
    "    per_device_eval_batch_size=32,  # Batch size for evaluation\n",
    "    gradient_accumulation_steps=4,  # Steps to accumulate gradients\n",
    "    gradient_checkpointing_kwargs={\"use_reentrant\": False},  # Options for gradient checkpointing\n",
    "    max_length=None,\n",
    "    # Optimizer and scheduler settings\n",
    "    optim=\"adamw_torch_fused\",  # Optimizer type\n",
    "    learning_rate=1e-5,  # Learning rate for training\n",
    "    lr_scheduler_type=\"cosine\",\n",
    "    warmup_ratio=0.03,  # Ratio of total steps for warmup\n",
    "    # Logging and evaluation\n",
    "    logging_steps=10,  # Steps interval for logging\n",
    "    eval_strategy='epoch',  # Steps interval for evaluation\n",
    "    save_strategy=\"epoch\",  # Strategy for saving the model\n",
    "    # Mixed precision and gradient settings\n",
    "    bf16=True,  # Use bfloat16 precision\n",
    "    max_grad_norm=0.3,  # Maximum norm for gradient clipping\n",
    "    # Hub and reporting\n",
    "    push_to_hub=True,  # Whether to push model to Hugging Face Hub\n",
    "    report_to=\"wandb\",  # Reporting tool for tracking metrics\n",
    ")"
   ]
  },
  {
   "cell_type": "code",
   "execution_count": 11,
   "id": "f7706da3",
   "metadata": {},
   "outputs": [
    {
     "name": "stderr",
     "output_type": "stream",
     "text": [
      "/home/triho/Data/miniconda3/envs/nlpmedvqa/lib/python3.10/site-packages/peft/mapping_func.py:73: UserWarning: You are trying to modify a model with PEFT for a second time. If you want to reload the model with a different config, make sure to call `.unload()` before.\n",
      "  warnings.warn(\n",
      "/home/triho/Data/miniconda3/envs/nlpmedvqa/lib/python3.10/site-packages/peft/tuners/tuners_utils.py:196: UserWarning: Already found a `peft_config` attribute in the model. This will lead to having multiple adapters in the model. Make sure to know what you are doing!\n",
      "  warnings.warn(\n",
      "Detected kernel version 4.18.0, which is below the recommended minimum of 5.5.0; this can cause the process to hang. It is recommended to upgrade the kernel to the minimum version or higher.\n"
     ]
    }
   ],
   "source": [
    "from trl import SFTTrainer\n",
    "\n",
    "trainer = SFTTrainer(\n",
    "    model=model,\n",
    "    args=training_args,\n",
    "    train_dataset=train_dataset,\n",
    "    eval_dataset=eval_dataset,\n",
    "    peft_config=peft_config,\n",
    "    processing_class=processor,\n",
    ")"
   ]
  },
  {
   "cell_type": "code",
   "execution_count": 12,
   "id": "a14622e2",
   "metadata": {},
   "outputs": [
    {
     "name": "stderr",
     "output_type": "stream",
     "text": [
      "The tokenizer has new PAD/BOS/EOS tokens that differ from the model config and generation config. The model config and generation config were aligned accordingly, being updated with the tokenizer's values. Updated tokens: {'bos_token_id': None, 'pad_token_id': 151643}.\n",
      "\u001b[34m\u001b[1mwandb\u001b[0m: Currently logged in as: \u001b[33mhtkhang0966\u001b[0m (\u001b[33mhtkhang0966-the-university-of-technology-sydney\u001b[0m) to \u001b[32mhttps://api.wandb.ai\u001b[0m. Use \u001b[1m`wandb login --relogin`\u001b[0m to force relogin\n"
     ]
    },
    {
     "data": {
      "text/html": [],
      "text/plain": [
       "<IPython.core.display.HTML object>"
      ]
     },
     "metadata": {},
     "output_type": "display_data"
    },
    {
     "data": {
      "text/html": [
       "Tracking run with wandb version 0.22.2"
      ],
      "text/plain": [
       "<IPython.core.display.HTML object>"
      ]
     },
     "metadata": {},
     "output_type": "display_data"
    },
    {
     "data": {
      "text/html": [
       "Run data is saved locally in <code>/data/triho/wandb/run-20251019_161329-jamsla7p</code>"
      ],
      "text/plain": [
       "<IPython.core.display.HTML object>"
      ]
     },
     "metadata": {},
     "output_type": "display_data"
    },
    {
     "data": {
      "text/html": [
       "Syncing run <strong><a href='https://wandb.ai/htkhang0966-the-university-of-technology-sydney/huggingface/runs/jamsla7p' target=\"_blank\">unique-snow-13</a></strong> to <a href='https://wandb.ai/htkhang0966-the-university-of-technology-sydney/huggingface' target=\"_blank\">Weights & Biases</a> (<a href='https://wandb.me/developer-guide' target=\"_blank\">docs</a>)<br>"
      ],
      "text/plain": [
       "<IPython.core.display.HTML object>"
      ]
     },
     "metadata": {},
     "output_type": "display_data"
    },
    {
     "data": {
      "text/html": [
       " View project at <a href='https://wandb.ai/htkhang0966-the-university-of-technology-sydney/huggingface' target=\"_blank\">https://wandb.ai/htkhang0966-the-university-of-technology-sydney/huggingface</a>"
      ],
      "text/plain": [
       "<IPython.core.display.HTML object>"
      ]
     },
     "metadata": {},
     "output_type": "display_data"
    },
    {
     "data": {
      "text/html": [
       " View run at <a href='https://wandb.ai/htkhang0966-the-university-of-technology-sydney/huggingface/runs/jamsla7p' target=\"_blank\">https://wandb.ai/htkhang0966-the-university-of-technology-sydney/huggingface/runs/jamsla7p</a>"
      ],
      "text/plain": [
       "<IPython.core.display.HTML object>"
      ]
     },
     "metadata": {},
     "output_type": "display_data"
    },
    {
     "data": {
      "text/html": [
       "\n",
       "    <div>\n",
       "      \n",
       "      <progress value='1000' max='1000' style='width:300px; height:20px; vertical-align: middle;'></progress>\n",
       "      [1000/1000 2:46:12, Epoch 10/10]\n",
       "    </div>\n",
       "    <table border=\"1\" class=\"dataframe\">\n",
       "  <thead>\n",
       " <tr style=\"text-align: left;\">\n",
       "      <th>Epoch</th>\n",
       "      <th>Training Loss</th>\n",
       "      <th>Validation Loss</th>\n",
       "      <th>Entropy</th>\n",
       "      <th>Num Tokens</th>\n",
       "      <th>Mean Token Accuracy</th>\n",
       "    </tr>\n",
       "  </thead>\n",
       "  <tbody>\n",
       "    <tr>\n",
       "      <td>1</td>\n",
       "      <td>3.990400</td>\n",
       "      <td>3.971650</td>\n",
       "      <td>4.097807</td>\n",
       "      <td>2221351.000000</td>\n",
       "      <td>0.486974</td>\n",
       "    </tr>\n",
       "    <tr>\n",
       "      <td>2</td>\n",
       "      <td>3.830000</td>\n",
       "      <td>3.830303</td>\n",
       "      <td>3.955291</td>\n",
       "      <td>4442702.000000</td>\n",
       "      <td>0.501375</td>\n",
       "    </tr>\n",
       "    <tr>\n",
       "      <td>3</td>\n",
       "      <td>3.812400</td>\n",
       "      <td>3.815667</td>\n",
       "      <td>3.931196</td>\n",
       "      <td>6664053.000000</td>\n",
       "      <td>0.502420</td>\n",
       "    </tr>\n",
       "    <tr>\n",
       "      <td>4</td>\n",
       "      <td>3.807200</td>\n",
       "      <td>3.809293</td>\n",
       "      <td>3.920729</td>\n",
       "      <td>8885404.000000</td>\n",
       "      <td>0.502903</td>\n",
       "    </tr>\n",
       "    <tr>\n",
       "      <td>5</td>\n",
       "      <td>3.807400</td>\n",
       "      <td>3.806549</td>\n",
       "      <td>3.918322</td>\n",
       "      <td>11106755.000000</td>\n",
       "      <td>0.503197</td>\n",
       "    </tr>\n",
       "    <tr>\n",
       "      <td>6</td>\n",
       "      <td>3.801700</td>\n",
       "      <td>3.804189</td>\n",
       "      <td>3.915318</td>\n",
       "      <td>13328106.000000</td>\n",
       "      <td>0.503438</td>\n",
       "    </tr>\n",
       "    <tr>\n",
       "      <td>7</td>\n",
       "      <td>3.802000</td>\n",
       "      <td>3.803164</td>\n",
       "      <td>3.912841</td>\n",
       "      <td>15549457.000000</td>\n",
       "      <td>0.503632</td>\n",
       "    </tr>\n",
       "    <tr>\n",
       "      <td>8</td>\n",
       "      <td>3.802000</td>\n",
       "      <td>3.802427</td>\n",
       "      <td>3.910927</td>\n",
       "      <td>17770808.000000</td>\n",
       "      <td>0.503558</td>\n",
       "    </tr>\n",
       "    <tr>\n",
       "      <td>9</td>\n",
       "      <td>3.799600</td>\n",
       "      <td>3.802254</td>\n",
       "      <td>3.911038</td>\n",
       "      <td>19992159.000000</td>\n",
       "      <td>0.503657</td>\n",
       "    </tr>\n",
       "    <tr>\n",
       "      <td>10</td>\n",
       "      <td>3.798600</td>\n",
       "      <td>3.802197</td>\n",
       "      <td>3.911001</td>\n",
       "      <td>22213510.000000</td>\n",
       "      <td>0.503664</td>\n",
       "    </tr>\n",
       "  </tbody>\n",
       "</table><p>"
      ],
      "text/plain": [
       "<IPython.core.display.HTML object>"
      ]
     },
     "metadata": {},
     "output_type": "display_data"
    },
    {
     "data": {
      "text/plain": [
       "TrainOutput(global_step=1000, training_loss=4.082292938232422, metrics={'train_runtime': 9985.9688, 'train_samples_per_second': 12.81, 'train_steps_per_second': 0.1, 'total_flos': 2.8064308831985664e+17, 'train_loss': 4.082292938232422, 'epoch': 10.0})"
      ]
     },
     "execution_count": 12,
     "metadata": {},
     "output_type": "execute_result"
    }
   ],
   "source": [
    "trainer.train()"
   ]
  },
  {
   "cell_type": "code",
   "execution_count": 13,
   "id": "44b1416f",
   "metadata": {},
   "outputs": [
    {
     "name": "stderr",
     "output_type": "stream",
     "text": [
      "Processing Files (3 / 3): 100%|███████████████████████████████████████████████████████████████████| 15.8MB / 15.8MB,  0.00B/s  \n",
      "New Data Upload: |                                                                                |  0.00B /  0.00B,  0.00B/s  \n",
      "No files have been modified since last commit. Skipping to prevent empty commit.\n"
     ]
    }
   ],
   "source": [
    "trainer.save_model(training_args.output_dir)"
   ]
  },
  {
   "cell_type": "code",
   "execution_count": null,
   "id": "345d7268",
   "metadata": {},
   "outputs": [],
   "source": [
    "# %cd \"/data/triho/NLP_VQA\"\n",
    "# %pip install wandb"
   ]
  },
  {
   "cell_type": "code",
   "execution_count": null,
   "id": "f06878b8",
   "metadata": {},
   "outputs": [],
   "source": [
    "clear_memory()"
   ]
  },
  {
   "cell_type": "markdown",
   "id": "84d52898",
   "metadata": {},
   "source": [
    "### 4. Evaluate on test set"
   ]
  },
  {
   "cell_type": "code",
   "execution_count": 14,
   "id": "52ce05e1",
   "metadata": {},
   "outputs": [],
   "source": [
    "def generate_vlm_predictions(model, processor, dataset, num_samples=-1, device=\"cuda\"):\n",
    "    predictions = []\n",
    "    references = []\n",
    "\n",
    "    for sample in tqdm(dataset[:num_samples], desc=\"Generating VLM predictions\"):\n",
    "        pred = generate_text_from_sample(model, processor, sample, device=device)\n",
    "        predictions.append(pred.strip())\n",
    "        references.append(sample['messages'][-1]['content'][0]['text'].strip())\n",
    "    \n",
    "    return predictions, references\n",
    "\n",
    "def compute_metrics(predictions, references):\n",
    "    # Load evaluation metrics\n",
    "    rouge = evaluate.load(\"rouge\")\n",
    "    bleu = evaluate.load(\"bleu\")\n",
    "    meteor = evaluate.load(\"meteor\")\n",
    "    bertscore = evaluate.load(\"bertscore\")\n",
    "\n",
    "    # --- ROUGE ---\n",
    "    rouge_result = rouge.compute(predictions=predictions, references=references)\n",
    "\n",
    "    # --- BLEU ---\n",
    "    bleu_result = bleu.compute(predictions=predictions, references=references, max_order=2)\n",
    "\n",
    "    # --- METEOR ---\n",
    "    meteor_result = meteor.compute(predictions=predictions, references=references)\n",
    "\n",
    "    # --- BERTScore---\n",
    "    bert_result = bertscore.compute(predictions=predictions, references=references, lang=\"en\")\n",
    "    avg_bert_f1 = sum(bert_result[\"f1\"]) / len(bert_result[\"f1\"])\n",
    "\n",
    "    return {\n",
    "        \"rouge1\": rouge_result['rouge1'],\n",
    "        'rouge2': rouge_result['rouge2'],\n",
    "        'rougeL': rouge_result['rougeL'],\n",
    "        \"bleu\": bleu_result['bleu'],\n",
    "        \"meteor\": meteor_result['meteor'],\n",
    "        \"bertscore\": avg_bert_f1,\n",
    "    }\n",
    "\n",
    "# predictions, references = generate_vlm_predictions(model, processor, test_dataset, device=\"cuda\")\n",
    "# eval_results = compute_metrics(predictions, references, use_bertscore=True)\n",
    "# print(eval_results)"
   ]
  },
  {
   "cell_type": "code",
   "execution_count": 15,
   "id": "c33107ef",
   "metadata": {},
   "outputs": [
    {
     "name": "stderr",
     "output_type": "stream",
     "text": [
      "Loading checkpoint shards: 100%|█████████████████████████████████████████████████████████████████| 2/2 [00:00<00:00,  2.32it/s]\n",
      "Fetching 2 files: 100%|████████████████████████████████████████████████████████████████████████| 2/2 [00:00<00:00, 8905.10it/s]\n",
      "Loading checkpoint shards: 100%|█████████████████████████████████████████████████████████████████| 2/2 [00:00<00:00,  2.48it/s]\n"
     ]
    }
   ],
   "source": [
    "model_id = \"Qwen/Qwen2-VL-2B-Instruct\"\n",
    "pretrained_model = Qwen2VLForConditionalGeneration.from_pretrained(\n",
    "    model_id,\n",
    "    device_map=\"auto\",\n",
    "    torch_dtype=torch.bfloat16,\n",
    ")\n",
    "\n",
    "finetuned_model = Qwen2VLForConditionalGeneration.from_pretrained(\n",
    "    \"/data/triho/NLP_VQA/qwen2-2b-MedVQA-2\",\n",
    "    device_map=\"auto\",\n",
    "    torch_dtype=torch.bfloat16,\n",
    ")\n",
    "\n",
    "processor = Qwen2VLProcessor.from_pretrained(model_id)"
   ]
  },
  {
   "cell_type": "code",
   "execution_count": 16,
   "id": "afad44fb",
   "metadata": {},
   "outputs": [
    {
     "name": "stderr",
     "output_type": "stream",
     "text": [
      "Generating VLM predictions: 100%|████████████████████████████████████████████████████████████| 499/499 [02:30<00:00,  3.32it/s]\n",
      "Generating VLM predictions: 100%|████████████████████████████████████████████████████████████| 499/499 [02:46<00:00,  2.99it/s]\n"
     ]
    }
   ],
   "source": [
    "pretrained_predictions, references = generate_vlm_predictions(pretrained_model, processor, test_dataset, device=\"cuda\")\n",
    "finetuned_predictions, references = generate_vlm_predictions(finetuned_model, processor, test_dataset, device=\"cuda\")"
   ]
  },
  {
   "cell_type": "code",
   "execution_count": 17,
   "id": "7a49da7c",
   "metadata": {},
   "outputs": [
    {
     "name": "stderr",
     "output_type": "stream",
     "text": [
      "[nltk_data] Downloading package wordnet to /home/triho/nltk_data...\n",
      "[nltk_data]   Package wordnet is already up-to-date!\n",
      "[nltk_data] Downloading package punkt_tab to /home/triho/nltk_data...\n",
      "[nltk_data]   Package punkt_tab is already up-to-date!\n",
      "[nltk_data] Downloading package omw-1.4 to /home/triho/nltk_data...\n",
      "[nltk_data]   Package omw-1.4 is already up-to-date!\n",
      "Some weights of RobertaModel were not initialized from the model checkpoint at roberta-large and are newly initialized: ['pooler.dense.bias', 'pooler.dense.weight']\n",
      "You should probably TRAIN this model on a down-stream task to be able to use it for predictions and inference.\n",
      "[nltk_data] Downloading package wordnet to /home/triho/nltk_data...\n",
      "[nltk_data]   Package wordnet is already up-to-date!\n",
      "[nltk_data] Downloading package punkt_tab to /home/triho/nltk_data...\n",
      "[nltk_data]   Package punkt_tab is already up-to-date!\n",
      "[nltk_data] Downloading package omw-1.4 to /home/triho/nltk_data...\n",
      "[nltk_data]   Package omw-1.4 is already up-to-date!\n",
      "Some weights of RobertaModel were not initialized from the model checkpoint at roberta-large and are newly initialized: ['pooler.dense.bias', 'pooler.dense.weight']\n",
      "You should probably TRAIN this model on a down-stream task to be able to use it for predictions and inference.\n"
     ]
    }
   ],
   "source": [
    "pretrained_eval_results = compute_metrics(pretrained_predictions, references)\n",
    "finetuned_eval_results = compute_metrics(finetuned_predictions, references)"
   ]
  },
  {
   "cell_type": "code",
   "execution_count": 18,
   "id": "635aeeb6",
   "metadata": {},
   "outputs": [
    {
     "data": {
      "text/html": [
       "<div>\n",
       "<style scoped>\n",
       "    .dataframe tbody tr th:only-of-type {\n",
       "        vertical-align: middle;\n",
       "    }\n",
       "\n",
       "    .dataframe tbody tr th {\n",
       "        vertical-align: top;\n",
       "    }\n",
       "\n",
       "    .dataframe thead th {\n",
       "        text-align: right;\n",
       "    }\n",
       "</style>\n",
       "<table border=\"1\" class=\"dataframe\">\n",
       "  <thead>\n",
       "    <tr style=\"text-align: right;\">\n",
       "      <th></th>\n",
       "      <th>Model</th>\n",
       "      <th>rouge1</th>\n",
       "      <th>rouge2</th>\n",
       "      <th>rougeL</th>\n",
       "      <th>bleu</th>\n",
       "      <th>meteor</th>\n",
       "      <th>bertscore</th>\n",
       "    </tr>\n",
       "  </thead>\n",
       "  <tbody>\n",
       "    <tr>\n",
       "      <th>0</th>\n",
       "      <td>Qwen2-VL-2B Pretrained</td>\n",
       "      <td>0.271953</td>\n",
       "      <td>0.000000</td>\n",
       "      <td>0.272483</td>\n",
       "      <td>0.00000</td>\n",
       "      <td>0.131504</td>\n",
       "      <td>0.876742</td>\n",
       "    </tr>\n",
       "    <tr>\n",
       "      <th>1</th>\n",
       "      <td>Qwen2-VL-2B Finetuned</td>\n",
       "      <td>0.413039</td>\n",
       "      <td>0.099332</td>\n",
       "      <td>0.413530</td>\n",
       "      <td>0.23805</td>\n",
       "      <td>0.259482</td>\n",
       "      <td>0.897806</td>\n",
       "    </tr>\n",
       "  </tbody>\n",
       "</table>\n",
       "</div>"
      ],
      "text/plain": [
       "                    Model    rouge1    rouge2    rougeL     bleu    meteor  \\\n",
       "0  Qwen2-VL-2B Pretrained  0.271953  0.000000  0.272483  0.00000  0.131504   \n",
       "1   Qwen2-VL-2B Finetuned  0.413039  0.099332  0.413530  0.23805  0.259482   \n",
       "\n",
       "   bertscore  \n",
       "0   0.876742  \n",
       "1   0.897806  "
      ]
     },
     "execution_count": 18,
     "metadata": {},
     "output_type": "execute_result"
    }
   ],
   "source": [
    "import pandas as pd\n",
    "result_df = pd.DataFrame(columns=[\"Model\"] + list(finetuned_eval_results.keys()))\n",
    "result_df.loc[0] = {\n",
    "    \"Model\": \"Qwen2-VL-2B Pretrained\",\n",
    "    **pretrained_eval_results\n",
    "}\n",
    "result_df.loc[1] = {\n",
    "    \"Model\": \"Qwen2-VL-2B Finetuned\",\n",
    "    **finetuned_eval_results\n",
    "}\n",
    "result_df"
   ]
  }
 ],
 "metadata": {
  "kernelspec": {
   "display_name": "Python 3 (ipykernel)",
   "language": "python",
   "name": "python3"
  },
  "language_info": {
   "codemirror_mode": {
    "name": "ipython",
    "version": 3
   },
   "file_extension": ".py",
   "mimetype": "text/x-python",
   "name": "python",
   "nbconvert_exporter": "python",
   "pygments_lexer": "ipython3",
   "version": "3.10.18"
  }
 },
 "nbformat": 4,
 "nbformat_minor": 5
}
